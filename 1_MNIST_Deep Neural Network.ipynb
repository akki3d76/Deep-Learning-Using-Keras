{
 "cells": [
  {
   "cell_type": "code",
   "execution_count": 1,
   "metadata": {
    "colab": {
     "base_uri": "https://localhost:8080/",
     "height": 34
    },
    "colab_type": "code",
    "id": "DcfZV5ydXqcN",
    "outputId": "59ddbb06-dbfa-45c1-dbf2-7e6f3c3fc5ed"
   },
   "outputs": [
    {
     "name": "stderr",
     "output_type": "stream",
     "text": [
      "Using TensorFlow backend.\n"
     ]
    }
   ],
   "source": [
    "import numpy as np\n",
    "import pandas as pd\n",
    "import matplotlib.pyplot as plt\n",
    "import seaborn as sns\n",
    "import sklearn\n",
    "sns.set()\n",
    "\n",
    "from sklearn.model_selection import train_test_split\n",
    "\n",
    "import keras\n",
    "from keras.datasets import mnist\n",
    "from keras.layers import Dense,Dropout\n",
    "from keras.models import Sequential\n",
    "from keras.utils import np_utils\n",
    "from keras.callbacks import ModelCheckpoint\n",
    "\n",
    "import warnings\n",
    "warnings.filterwarnings('ignore')"
   ]
  },
  {
   "cell_type": "markdown",
   "metadata": {
    "colab_type": "text",
    "id": "-n8X00nSdgFa"
   },
   "source": [
    "## **Each MNIST image - Gray scale - 28 x 28 pixels**"
   ]
  },
  {
   "cell_type": "code",
   "execution_count": 2,
   "metadata": {
    "colab": {
     "base_uri": "https://localhost:8080/",
     "height": 51
    },
    "colab_type": "code",
    "id": "83WtOTdoa2as",
    "outputId": "c0dcba39-5c6f-42df-d6f3-7109661185f2"
   },
   "outputs": [
    {
     "name": "stdout",
     "output_type": "stream",
     "text": [
      "Training data shape (60000, 28, 28) (60000,)\n",
      "Testing  data shape (10000, 28, 28) (10000,)\n"
     ]
    }
   ],
   "source": [
    "(x_train, y_train), (x_test, y_test) = mnist.load_data()\n",
    "print('Training data shape {} {}'.format(x_train.shape,y_train.shape))\n",
    "print('Testing  data shape {} {}'.format(x_test.shape,y_test.shape))"
   ]
  },
  {
   "cell_type": "code",
   "execution_count": 3,
   "metadata": {
    "colab": {
     "base_uri": "https://localhost:8080/",
     "height": 308
    },
    "colab_type": "code",
    "id": "Ie8sHcJke-zI",
    "outputId": "2c06fea9-0d0e-47e0-acec-cb5c27b42e66"
   },
   "outputs": [
    {
     "name": "stdout",
     "output_type": "stream",
     "text": [
      "Displaying Image\n",
      "Label of image  0\n"
     ]
    },
    {
     "data": {
      "image/png": "[encoded data removed]",
      "text/plain": [
       "<Figure size 432x288 with 1 Axes>"
      ]
     },
     "metadata": {
      "tags": []
     },
     "output_type": "display_data"
    }
   ],
   "source": [
    "print('Displaying Image')\n",
    "plt.imshow(x_train[1],cmap='gray')\n",
    "print('Label of image ',y_train[1])"
   ]
  },
  {
   "cell_type": "code",
   "execution_count": 4,
   "metadata": {
    "colab": {
     "base_uri": "https://localhost:8080/",
     "height": 68
    },
    "colab_type": "code",
    "id": "5z3NT2tyftuJ",
    "outputId": "2ed29eeb-6720-46b3-d450-7f7eedc2e17d"
   },
   "outputs": [
    {
     "name": "stdout",
     "output_type": "stream",
     "text": [
      "Training   data shape (54000, 784) (54000, 10)\n",
      "Validation data shape (6000, 784) (6000, 10)\n",
      "Testing    data shape (10000, 784) (10000, 10)\n"
     ]
    }
   ],
   "source": [
    "x_train = x_train.reshape(60000,-1)\n",
    "x_test  = x_test.reshape(10000,-1)\n",
    "\n",
    "x_train = x_train/255\n",
    "x_test = x_test/255\n",
    "\n",
    "y_train = np_utils.to_categorical(y_train,10)\n",
    "y_test = np_utils.to_categorical(y_test,10)\n",
    "\n",
    "\n",
    "x_train,x_val,y_train,y_val = train_test_split(x_train,y_train,test_size=0.1,random_state=100,stratify=y_train)\n",
    "\n",
    "print('Training   data shape {} {}'.format(x_train.shape,y_train.shape))\n",
    "print('Validation data shape {} {}'.format(x_val.shape,y_val.shape))\n",
    "print('Testing    data shape {} {}'.format(x_test.shape,y_test.shape))"
   ]
  },
  {
   "cell_type": "code",
   "execution_count": 0,
   "metadata": {
    "colab": {},
    "colab_type": "code",
    "id": "np7u3oSMixWh"
   },
   "outputs": [],
   "source": []
  },
  {
   "cell_type": "code",
   "execution_count": 5,
   "metadata": {
    "colab": {
     "base_uri": "https://localhost:8080/",
     "height": 666
    },
    "colab_type": "code",
    "id": "2yxlyFEFgug9",
    "outputId": "d0e94ebf-b7c9-4425-9e6f-d9c44e673630"
   },
   "outputs": [
    {
     "name": "stderr",
     "output_type": "stream",
     "text": [
      "WARNING: Logging before flag parsing goes to stderr.\n",
      "W0823 23:57:38.563886 139663477057408 deprecation_wrapper.py:119] From /usr/local/lib/python3.6/dist-packages/keras/backend/tensorflow_backend.py:74: The name tf.get_default_graph is deprecated. Please use tf.compat.v1.get_default_graph instead.\n",
      "\n",
      "W0823 23:57:38.583070 139663477057408 deprecation_wrapper.py:119] From /usr/local/lib/python3.6/dist-packages/keras/backend/tensorflow_backend.py:517: The name tf.placeholder is deprecated. Please use tf.compat.v1.placeholder instead.\n",
      "\n",
      "W0823 23:57:38.587724 139663477057408 deprecation_wrapper.py:119] From /usr/local/lib/python3.6/dist-packages/keras/backend/tensorflow_backend.py:4138: The name tf.random_uniform is deprecated. Please use tf.random.uniform instead.\n",
      "\n",
      "W0823 23:57:38.632858 139663477057408 deprecation_wrapper.py:119] From /usr/local/lib/python3.6/dist-packages/keras/backend/tensorflow_backend.py:133: The name tf.placeholder_with_default is deprecated. Please use tf.compat.v1.placeholder_with_default instead.\n",
      "\n",
      "W0823 23:57:38.644069 139663477057408 deprecation.py:506] From /usr/local/lib/python3.6/dist-packages/keras/backend/tensorflow_backend.py:3445: calling dropout (from tensorflow.python.ops.nn_ops) with keep_prob is deprecated and will be removed in a future version.\n",
      "Instructions for updating:\n",
      "Please use `rate` instead of `keep_prob`. Rate should be set to `rate = 1 - keep_prob`.\n",
      "W0823 23:57:38.708299 139663477057408 deprecation_wrapper.py:119] From /usr/local/lib/python3.6/dist-packages/keras/optimizers.py:790: The name tf.train.Optimizer is deprecated. Please use tf.compat.v1.train.Optimizer instead.\n",
      "\n",
      "W0823 23:57:38.734303 139663477057408 deprecation_wrapper.py:119] From /usr/local/lib/python3.6/dist-packages/keras/backend/tensorflow_backend.py:3295: The name tf.log is deprecated. Please use tf.math.log instead.\n",
      "\n"
     ]
    },
    {
     "name": "stdout",
     "output_type": "stream",
     "text": [
      "_________________________________________________________________\n",
      "Layer (type)                 Output Shape              Param #   \n",
      "=================================================================\n",
      "dense_1 (Dense)              (None, 64)                50240     \n",
      "_________________________________________________________________\n",
      "dense_2 (Dense)              (None, 64)                4160      \n",
      "_________________________________________________________________\n",
      "dense_3 (Dense)              (None, 32)                2080      \n",
      "_________________________________________________________________\n",
      "dropout_1 (Dropout)          (None, 32)                0         \n",
      "_________________________________________________________________\n",
      "dense_4 (Dense)              (None, 16)                528       \n",
      "_________________________________________________________________\n",
      "dropout_2 (Dropout)          (None, 16)                0         \n",
      "_________________________________________________________________\n",
      "dense_5 (Dense)              (None, 10)                170       \n",
      "=================================================================\n",
      "Total params: 57,178\n",
      "Trainable params: 57,178\n",
      "Non-trainable params: 0\n",
      "_________________________________________________________________\n"
     ]
    }
   ],
   "source": [
    "model = Sequential()\n",
    "model.add(Dense(64,input_shape=(784, ),activation='relu'))\n",
    "model.add(Dense(64,activation='relu'))\n",
    "model.add(Dense(32,activation='relu'))\n",
    "model.add(Dropout(0.05))\n",
    "model.add(Dense(16,activation='relu'))\n",
    "model.add(Dropout(0.1))\n",
    "model.add(Dense(10,activation='softmax'))\n",
    "\n",
    "model.compile(optimizer='adam',loss='categorical_crossentropy',metrics=['accuracy'])\n",
    "\n",
    "model.summary()"
   ]
  },
  {
   "cell_type": "code",
   "execution_count": 6,
   "metadata": {
    "colab": {
     "base_uri": "https://localhost:8080/",
     "height": 3505
    },
    "colab_type": "code",
    "id": "OZHjw1VsjWNA",
    "outputId": "8d8494a8-aca1-4935-b864-56fc52f4c890"
   },
   "outputs": [
    {
     "name": "stderr",
     "output_type": "stream",
     "text": [
      "W0823 23:57:38.878084 139663477057408 deprecation.py:323] From /usr/local/lib/python3.6/dist-packages/tensorflow/python/ops/math_grad.py:1250: add_dispatch_support.<locals>.wrapper (from tensorflow.python.ops.array_ops) is deprecated and will be removed in a future version.\n",
      "Instructions for updating:\n",
      "Use tf.where in 2.0, which has the same broadcast rule as np.where\n"
     ]
    },
    {
     "name": "stdout",
     "output_type": "stream",
     "text": [
      "Train on 48600 samples, validate on 5400 samples\n",
      "Epoch 1/50\n",
      "48600/48600 [==============================] - 4s 82us/step - loss: 0.5364 - acc: 0.8323 - val_loss: 0.2294 - val_acc: 0.9372\n",
      "\n",
      "Epoch 00001: val_acc improved from -inf to 0.93722, saving model to weights_best.hdf5\n",
      "Epoch 2/50\n",
      "48600/48600 [==============================] - 3s 65us/step - loss: 0.2288 - acc: 0.9362 - val_loss: 0.1631 - val_acc: 0.9559\n",
      "\n",
      "Epoch 00002: val_acc improved from 0.93722 to 0.95593, saving model to weights_best.hdf5\n",
      "Epoch 3/50\n",
      "48600/48600 [==============================] - 3s 63us/step - loss: 0.1678 - acc: 0.9528 - val_loss: 0.1385 - val_acc: 0.9607\n",
      "\n",
      "Epoch 00003: val_acc improved from 0.95593 to 0.96074, saving model to weights_best.hdf5\n",
      "Epoch 4/50\n",
      "48600/48600 [==============================] - 3s 63us/step - loss: 0.1354 - acc: 0.9624 - val_loss: 0.1227 - val_acc: 0.9637\n",
      "\n",
      "Epoch 00004: val_acc improved from 0.96074 to 0.96370, saving model to weights_best.hdf5\n",
      "Epoch 5/50\n",
      "48600/48600 [==============================] - 3s 69us/step - loss: 0.1124 - acc: 0.9689 - val_loss: 0.1350 - val_acc: 0.9626\n",
      "\n",
      "Epoch 00005: val_acc did not improve from 0.96370\n",
      "Epoch 6/50\n",
      "48600/48600 [==============================] - 3s 61us/step - loss: 0.0975 - acc: 0.9733 - val_loss: 0.1231 - val_acc: 0.9650\n",
      "\n",
      "Epoch 00006: val_acc improved from 0.96370 to 0.96500, saving model to weights_best.hdf5\n",
      "Epoch 7/50\n",
      "48600/48600 [==============================] - 3s 55us/step - loss: 0.0881 - acc: 0.9741 - val_loss: 0.1270 - val_acc: 0.9639\n",
      "\n",
      "Epoch 00007: val_acc did not improve from 0.96500\n",
      "Epoch 8/50\n",
      "48600/48600 [==============================] - 3s 60us/step - loss: 0.0756 - acc: 0.9784 - val_loss: 0.1446 - val_acc: 0.9648\n",
      "\n",
      "Epoch 00008: val_acc did not improve from 0.96500\n",
      "Epoch 9/50\n",
      "48600/48600 [==============================] - 3s 59us/step - loss: 0.0667 - acc: 0.9806 - val_loss: 0.1264 - val_acc: 0.9689\n",
      "\n",
      "Epoch 00009: val_acc improved from 0.96500 to 0.96889, saving model to weights_best.hdf5\n",
      "Epoch 10/50\n",
      "48600/48600 [==============================] - 3s 57us/step - loss: 0.0655 - acc: 0.9807 - val_loss: 0.1294 - val_acc: 0.9693\n",
      "\n",
      "Epoch 00010: val_acc improved from 0.96889 to 0.96926, saving model to weights_best.hdf5\n",
      "Epoch 11/50\n",
      "48600/48600 [==============================] - 3s 59us/step - loss: 0.0581 - acc: 0.9831 - val_loss: 0.1482 - val_acc: 0.9650\n",
      "\n",
      "Epoch 00011: val_acc did not improve from 0.96926\n",
      "Epoch 12/50\n",
      "48600/48600 [==============================] - 3s 63us/step - loss: 0.0531 - acc: 0.9847 - val_loss: 0.1471 - val_acc: 0.9663\n",
      "\n",
      "Epoch 00012: val_acc did not improve from 0.96926\n",
      "Epoch 13/50\n",
      "48600/48600 [==============================] - 3s 58us/step - loss: 0.0477 - acc: 0.9859 - val_loss: 0.1258 - val_acc: 0.9722\n",
      "\n",
      "Epoch 00013: val_acc improved from 0.96926 to 0.97222, saving model to weights_best.hdf5\n",
      "Epoch 14/50\n",
      "48600/48600 [==============================] - 3s 60us/step - loss: 0.0464 - acc: 0.9863 - val_loss: 0.1384 - val_acc: 0.9670\n",
      "\n",
      "Epoch 00014: val_acc did not improve from 0.97222\n",
      "Epoch 15/50\n",
      "48600/48600 [==============================] - 3s 59us/step - loss: 0.0434 - acc: 0.9875 - val_loss: 0.1345 - val_acc: 0.9704\n",
      "\n",
      "Epoch 00015: val_acc did not improve from 0.97222\n",
      "Epoch 16/50\n",
      "48600/48600 [==============================] - 3s 60us/step - loss: 0.0372 - acc: 0.9889 - val_loss: 0.1273 - val_acc: 0.9737\n",
      "\n",
      "Epoch 00016: val_acc improved from 0.97222 to 0.97370, saving model to weights_best.hdf5\n",
      "Epoch 17/50\n",
      "48600/48600 [==============================] - 2s 51us/step - loss: 0.0361 - acc: 0.9891 - val_loss: 0.1458 - val_acc: 0.9694\n",
      "\n",
      "Epoch 00017: val_acc did not improve from 0.97370\n",
      "Epoch 18/50\n",
      "48600/48600 [==============================] - 3s 59us/step - loss: 0.0342 - acc: 0.9899 - val_loss: 0.1561 - val_acc: 0.9696\n",
      "\n",
      "Epoch 00018: val_acc did not improve from 0.97370\n",
      "Epoch 19/50\n",
      "48600/48600 [==============================] - 2s 49us/step - loss: 0.0351 - acc: 0.9896 - val_loss: 0.1495 - val_acc: 0.9700\n",
      "\n",
      "Epoch 00019: val_acc did not improve from 0.97370\n",
      "Epoch 20/50\n",
      "48600/48600 [==============================] - 2s 48us/step - loss: 0.0318 - acc: 0.9906 - val_loss: 0.1500 - val_acc: 0.9730\n",
      "\n",
      "Epoch 00020: val_acc did not improve from 0.97370\n",
      "Epoch 21/50\n",
      "48600/48600 [==============================] - 2s 49us/step - loss: 0.0311 - acc: 0.9906 - val_loss: 0.1622 - val_acc: 0.9709\n",
      "\n",
      "Epoch 00021: val_acc did not improve from 0.97370\n",
      "Epoch 22/50\n",
      "48600/48600 [==============================] - 2s 49us/step - loss: 0.0267 - acc: 0.9923 - val_loss: 0.1417 - val_acc: 0.9722\n",
      "\n",
      "Epoch 00022: val_acc did not improve from 0.97370\n",
      "Epoch 23/50\n",
      "48600/48600 [==============================] - 2s 50us/step - loss: 0.0266 - acc: 0.9923 - val_loss: 0.1696 - val_acc: 0.9698\n",
      "\n",
      "Epoch 00023: val_acc did not improve from 0.97370\n",
      "Epoch 24/50\n",
      "48600/48600 [==============================] - 3s 60us/step - loss: 0.0287 - acc: 0.9919 - val_loss: 0.1508 - val_acc: 0.9733\n",
      "\n",
      "Epoch 00024: val_acc did not improve from 0.97370\n",
      "Epoch 25/50\n",
      "48600/48600 [==============================] - 3s 66us/step - loss: 0.0230 - acc: 0.9932 - val_loss: 0.1699 - val_acc: 0.9707\n",
      "\n",
      "Epoch 00025: val_acc did not improve from 0.97370\n",
      "Epoch 26/50\n",
      "48600/48600 [==============================] - 2s 48us/step - loss: 0.0253 - acc: 0.9932 - val_loss: 0.1551 - val_acc: 0.9715\n",
      "\n",
      "Epoch 00026: val_acc did not improve from 0.97370\n",
      "Epoch 27/50\n",
      "48600/48600 [==============================] - 2s 49us/step - loss: 0.0222 - acc: 0.9937 - val_loss: 0.1569 - val_acc: 0.9730\n",
      "\n",
      "Epoch 00027: val_acc did not improve from 0.97370\n",
      "Epoch 28/50\n",
      "48600/48600 [==============================] - 2s 50us/step - loss: 0.0248 - acc: 0.9926 - val_loss: 0.1570 - val_acc: 0.9726\n",
      "\n",
      "Epoch 00028: val_acc did not improve from 0.97370\n",
      "Epoch 29/50\n",
      "48600/48600 [==============================] - 2s 49us/step - loss: 0.0209 - acc: 0.9938 - val_loss: 0.1502 - val_acc: 0.9730\n",
      "\n",
      "Epoch 00029: val_acc did not improve from 0.97370\n",
      "Epoch 30/50\n",
      "48600/48600 [==============================] - 3s 59us/step - loss: 0.0194 - acc: 0.9943 - val_loss: 0.1612 - val_acc: 0.9730\n",
      "\n",
      "Epoch 00030: val_acc did not improve from 0.97370\n",
      "Epoch 31/50\n",
      "48600/48600 [==============================] - 3s 60us/step - loss: 0.0223 - acc: 0.9936 - val_loss: 0.1559 - val_acc: 0.9700\n",
      "\n",
      "Epoch 00031: val_acc did not improve from 0.97370\n",
      "Epoch 32/50\n",
      "48600/48600 [==============================] - 3s 65us/step - loss: 0.0228 - acc: 0.9938 - val_loss: 0.1555 - val_acc: 0.9706\n",
      "\n",
      "Epoch 00032: val_acc did not improve from 0.97370\n",
      "Epoch 33/50\n",
      "48600/48600 [==============================] - 2s 49us/step - loss: 0.0187 - acc: 0.9947 - val_loss: 0.1618 - val_acc: 0.9720\n",
      "\n",
      "Epoch 00033: val_acc did not improve from 0.97370\n",
      "Epoch 34/50\n",
      "48600/48600 [==============================] - 2s 49us/step - loss: 0.0196 - acc: 0.9945 - val_loss: 0.1680 - val_acc: 0.9741\n",
      "\n",
      "Epoch 00034: val_acc improved from 0.97370 to 0.97407, saving model to weights_best.hdf5\n",
      "Epoch 35/50\n",
      "48600/48600 [==============================] - 2s 50us/step - loss: 0.0179 - acc: 0.9947 - val_loss: 0.1582 - val_acc: 0.9739\n",
      "\n",
      "Epoch 00035: val_acc did not improve from 0.97407\n",
      "Epoch 36/50\n",
      "48600/48600 [==============================] - 3s 65us/step - loss: 0.0168 - acc: 0.9954 - val_loss: 0.1576 - val_acc: 0.9746\n",
      "\n",
      "Epoch 00036: val_acc improved from 0.97407 to 0.97463, saving model to weights_best.hdf5\n",
      "Epoch 37/50\n",
      "48600/48600 [==============================] - 3s 63us/step - loss: 0.0185 - acc: 0.9947 - val_loss: 0.1897 - val_acc: 0.9706\n",
      "\n",
      "Epoch 00037: val_acc did not improve from 0.97463\n",
      "Epoch 38/50\n",
      "48600/48600 [==============================] - 2s 50us/step - loss: 0.0190 - acc: 0.9945 - val_loss: 0.1751 - val_acc: 0.9730\n",
      "\n",
      "Epoch 00038: val_acc did not improve from 0.97463\n",
      "Epoch 39/50\n",
      "48600/48600 [==============================] - 2s 50us/step - loss: 0.0152 - acc: 0.9957 - val_loss: 0.1568 - val_acc: 0.9737\n",
      "\n",
      "Epoch 00039: val_acc did not improve from 0.97463\n",
      "Epoch 40/50\n",
      "48600/48600 [==============================] - 3s 54us/step - loss: 0.0177 - acc: 0.9951 - val_loss: 0.1799 - val_acc: 0.9739\n",
      "\n",
      "Epoch 00040: val_acc did not improve from 0.97463\n",
      "Epoch 41/50\n",
      "48600/48600 [==============================] - 2s 50us/step - loss: 0.0125 - acc: 0.9963 - val_loss: 0.1859 - val_acc: 0.9752\n",
      "\n",
      "Epoch 00041: val_acc improved from 0.97463 to 0.97519, saving model to weights_best.hdf5\n",
      "Epoch 42/50\n",
      "48600/48600 [==============================] - 2s 50us/step - loss: 0.0188 - acc: 0.9945 - val_loss: 0.1654 - val_acc: 0.9722\n",
      "\n",
      "Epoch 00042: val_acc did not improve from 0.97519\n",
      "Epoch 43/50\n",
      "48600/48600 [==============================] - 2s 50us/step - loss: 0.0152 - acc: 0.9958 - val_loss: 0.1695 - val_acc: 0.9731\n",
      "\n",
      "Epoch 00043: val_acc did not improve from 0.97519\n",
      "Epoch 44/50\n",
      "48600/48600 [==============================] - 3s 57us/step - loss: 0.0149 - acc: 0.9958 - val_loss: 0.1669 - val_acc: 0.9735\n",
      "\n",
      "Epoch 00044: val_acc did not improve from 0.97519\n",
      "Epoch 45/50\n",
      "48600/48600 [==============================] - 3s 58us/step - loss: 0.0154 - acc: 0.9958 - val_loss: 0.1797 - val_acc: 0.9728\n",
      "\n",
      "Epoch 00045: val_acc did not improve from 0.97519\n",
      "Epoch 46/50\n",
      "48600/48600 [==============================] - 2s 50us/step - loss: 0.0148 - acc: 0.9961 - val_loss: 0.1979 - val_acc: 0.9713\n",
      "\n",
      "Epoch 00046: val_acc did not improve from 0.97519\n",
      "Epoch 47/50\n",
      "48600/48600 [==============================] - 3s 57us/step - loss: 0.0146 - acc: 0.9961 - val_loss: 0.2004 - val_acc: 0.9724\n",
      "\n",
      "Epoch 00047: val_acc did not improve from 0.97519\n",
      "Epoch 48/50\n",
      "48600/48600 [==============================] - 2s 48us/step - loss: 0.0159 - acc: 0.9954 - val_loss: 0.1802 - val_acc: 0.9746\n",
      "\n",
      "Epoch 00048: val_acc did not improve from 0.97519\n",
      "Epoch 49/50\n",
      "48600/48600 [==============================] - 2s 50us/step - loss: 0.0095 - acc: 0.9970 - val_loss: 0.1851 - val_acc: 0.9744\n",
      "\n",
      "Epoch 00049: val_acc did not improve from 0.97519\n",
      "Epoch 50/50\n",
      "48600/48600 [==============================] - 2s 49us/step - loss: 0.0168 - acc: 0.9954 - val_loss: 0.1893 - val_acc: 0.9706\n",
      "\n",
      "Epoch 00050: val_acc did not improve from 0.97519\n"
     ]
    }
   ],
   "source": [
    "filepath=\"weights_best.hdf5\"\n",
    "checkpoint = [ModelCheckpoint(filepath, monitor='val_acc', verbose=1, save_best_only=True, mode='max')]\n",
    "history = model.fit(x_train,y_train,epochs=50,verbose=1,validation_split=0.1,batch_size=64,callbacks=checkpoint)"
   ]
  },
  {
   "cell_type": "code",
   "execution_count": 7,
   "metadata": {
    "colab": {
     "base_uri": "https://localhost:8080/",
     "height": 68
    },
    "colab_type": "code",
    "id": "kdj3vOHJtwK8",
    "outputId": "8f48ab4a-1978-40bb-dfab-fed1ac202f6c"
   },
   "outputs": [
    {
     "name": "stdout",
     "output_type": "stream",
     "text": [
      "10000/10000 [==============================] - 0s 25us/step\n",
      "Test score:   0.1694683479951793\n",
      "Test accuracy: 0.9718\n"
     ]
    }
   ],
   "source": [
    "score = model.evaluate(x_test, y_test, verbose=1)\n",
    "print(\"Test score:  \", score[0])\n",
    "print('Test accuracy:', score[1])"
   ]
  },
  {
   "cell_type": "code",
   "execution_count": 8,
   "metadata": {
    "colab": {
     "base_uri": "https://localhost:8080/",
     "height": 359
    },
    "colab_type": "code",
    "id": "dn_dDAEiuAs-",
    "outputId": "0ee1eb52-d0e2-4560-f97a-527f4b0b89c2"
   },
   "outputs": [
    {
     "data": {
      "image/png": "[encoded data removed]",
      "text/plain": [
       "<Figure size 864x360 with 1 Axes>"
      ]
     },
     "metadata": {
      "tags": []
     },
     "output_type": "display_data"
    }
   ],
   "source": [
    "fig1 = plt.figure(figsize=(12,5))\n",
    "plt.plot(history.history['loss'],'r',linewidth=3.0)\n",
    "plt.plot(history.history['val_loss'],'b',linewidth=3.0)\n",
    "plt.legend(['Training loss', 'Validation Loss'],fontsize=18)\n",
    "plt.xlabel('Epochs ',fontsize=16)\n",
    "plt.ylabel('Loss',fontsize=16)\n",
    "plt.title('Loss Curves',fontsize=16)\n",
    "#fig1.savefig('loss.png')\n",
    "plt.show()"
   ]
  },
  {
   "cell_type": "code",
   "execution_count": 9,
   "metadata": {
    "colab": {
     "base_uri": "https://localhost:8080/",
     "height": 359
    },
    "colab_type": "code",
    "id": "J_JuIbB-vHGi",
    "outputId": "e70ca1ea-0159-48fe-a498-5dde306f80a9"
   },
   "outputs": [
    {
     "data": {
      "image/png": "[encoded data removed]",
      "text/plain": [
       "<Figure size 864x360 with 1 Axes>"
      ]
     },
     "metadata": {
      "tags": []
     },
     "output_type": "display_data"
    }
   ],
   "source": [
    "fig2=plt.figure(figsize=(12,5))\n",
    "plt.plot(history.history['acc'],'r',linewidth=3.0)\n",
    "plt.plot(history.history['val_acc'],'b',linewidth=3.0)\n",
    "plt.legend(['Training Accuracy', 'Validation Accuracy'],fontsize=18)\n",
    "plt.xlabel('Epochs ',fontsize=16)\n",
    "plt.ylabel('Accuracy',fontsize=16)\n",
    "plt.title('Accuracy Curves',fontsize=16)\n",
    "#fig2.savefig('accuracy.png')\n",
    "plt.show()"
   ]
  }
 ],
 "metadata": {
  "colab": {
   "collapsed_sections": [],
   "name": "1 MNIST .ipynb",
   "provenance": [],
   "version": "0.3.2"
  },
  "kernelspec": {
   "display_name": "Python 3",
   "language": "python",
   "name": "python3"
  },
  "language_info": {
   "codemirror_mode": {
    "name": "ipython",
    "version": 3
   },
   "file_extension": ".py",
   "mimetype": "text/x-python",
   "name": "python",
   "nbconvert_exporter": "python",
   "pygments_lexer": "ipython3",
   "version": "3.6.6"
  }
 },
 "nbformat": 4,
 "nbformat_minor": 1
}
